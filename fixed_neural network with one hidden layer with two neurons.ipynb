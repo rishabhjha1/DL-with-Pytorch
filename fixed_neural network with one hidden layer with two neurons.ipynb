{
 "cells": [
  {
   "cell_type": "code",
   "execution_count": 1,
   "id": "a9f950c5",
   "metadata": {},
   "outputs": [],
   "source": [
    "#importing libraries\n",
    "import torch\n",
    "import torch.nn as nn\n",
    "from torch import sigmoid"
   ]
  },
  {
   "cell_type": "code",
   "execution_count": 2,
   "id": "62a72f9d",
   "metadata": {},
   "outputs": [],
   "source": [
    "#Class for linear function\n",
    "class Net(nn.Module):\n",
    "    def __init__(self, D_in,H,D_out):\n",
    "        super(Net,self).__init__()\n",
    "        self.linear1 = nn.Linear(D_in,H)\n",
    "        self.linear2 = nn.Linear(H,D_out)\n",
    "\n",
    "    def forward(self,x):\n",
    "        x = sigmoid(self.linear1(x))\n",
    "        x = sigmoid(self.linear2(x))\n",
    "        return x\n",
    "    \n"
   ]
  },
  {
   "cell_type": "code",
   "execution_count": 3,
   "id": "26df79b2",
   "metadata": {},
   "outputs": [],
   "source": [
    "model = Net(1,2,1)\n",
    "x = torch.tensor([0.0])\n",
    "yhat = model(x)"
   ]
  },
  {
   "cell_type": "code",
   "execution_count": 4,
   "id": "e24e0c3a",
   "metadata": {},
   "outputs": [
    {
     "data": {
      "text/plain": [
       "tensor([0.5802], grad_fn=<SigmoidBackward0>)"
      ]
     },
     "execution_count": 4,
     "metadata": {},
     "output_type": "execute_result"
    }
   ],
   "source": [
    "yhat"
   ]
  },
  {
   "cell_type": "code",
   "execution_count": 5,
   "id": "8215fc43",
   "metadata": {},
   "outputs": [],
   "source": [
    "#For Multiple samples\n",
    "model = Net(1,2,1)\n",
    "x = torch.tensor([[0.0],[2.0],[1.0]])\n",
    "yhat = model(x)"
   ]
  },
  {
   "cell_type": "code",
   "execution_count": 6,
   "id": "f27f89d6",
   "metadata": {},
   "outputs": [
    {
     "data": {
      "text/plain": [
       "tensor([[0.4420],\n",
       "        [0.4481],\n",
       "        [0.4449]], grad_fn=<SigmoidBackward0>)"
      ]
     },
     "execution_count": 6,
     "metadata": {},
     "output_type": "execute_result"
    }
   ],
   "source": [
    "yhat"
   ]
  },
  {
   "cell_type": "code",
   "execution_count": 8,
   "id": "0b7713ea",
   "metadata": {},
   "outputs": [
    {
     "data": {
      "text/plain": [
       "OrderedDict([('linear1.weight',\n",
       "              tensor([[-0.4378],\n",
       "                      [ 0.3423]])),\n",
       "             ('linear1.bias', tensor([-0.1114,  0.8891])),\n",
       "             ('linear2.weight', tensor([[-0.5287, -0.6803]])),\n",
       "             ('linear2.bias', tensor([0.4989]))])"
      ]
     },
     "execution_count": 8,
     "metadata": {},
     "output_type": "execute_result"
    }
   ],
   "source": [
    "model.state_dict()"
   ]
  },
  {
   "cell_type": "code",
   "execution_count": 9,
   "id": "ace546a5",
   "metadata": {},
   "outputs": [
    {
     "data": {
      "text/plain": [
       "<bound method Module.state_dict of Net(\n",
       "  (linear1): Linear(in_features=1, out_features=2, bias=True)\n",
       "  (linear2): Linear(in_features=2, out_features=1, bias=True)\n",
       ")>"
      ]
     },
     "execution_count": 9,
     "metadata": {},
     "output_type": "execute_result"
    }
   ],
   "source": [
    "model.state_dict"
   ]
  },
  {
   "cell_type": "code",
   "execution_count": 10,
   "id": "632accc6",
   "metadata": {},
   "outputs": [
    {
     "name": "stdout",
     "output_type": "stream",
     "text": [
      "Requirement already satisfied: nbformat in c:\\users\\rjhha\\anaconda3\\lib\\site-packages (5.10.4)\n",
      "Requirement already satisfied: fastjsonschema>=2.15 in c:\\users\\rjhha\\anaconda3\\lib\\site-packages (from nbformat) (2.16.2)\n",
      "Requirement already satisfied: jsonschema>=2.6 in c:\\users\\rjhha\\anaconda3\\lib\\site-packages (from nbformat) (4.23.0)\n",
      "Requirement already satisfied: jupyter-core!=5.0.*,>=4.12 in c:\\users\\rjhha\\anaconda3\\lib\\site-packages (from nbformat) (5.7.2)\n",
      "Requirement already satisfied: traitlets>=5.1 in c:\\users\\rjhha\\anaconda3\\lib\\site-packages (from nbformat) (5.14.3)\n",
      "Requirement already satisfied: attrs>=22.2.0 in c:\\users\\rjhha\\anaconda3\\lib\\site-packages (from jsonschema>=2.6->nbformat) (23.1.0)\n",
      "Requirement already satisfied: jsonschema-specifications>=2023.03.6 in c:\\users\\rjhha\\anaconda3\\lib\\site-packages (from jsonschema>=2.6->nbformat) (2023.7.1)\n",
      "Requirement already satisfied: referencing>=0.28.4 in c:\\users\\rjhha\\anaconda3\\lib\\site-packages (from jsonschema>=2.6->nbformat) (0.30.2)\n",
      "Requirement already satisfied: rpds-py>=0.7.1 in c:\\users\\rjhha\\anaconda3\\lib\\site-packages (from jsonschema>=2.6->nbformat) (0.10.6)\n",
      "Requirement already satisfied: platformdirs>=2.5 in c:\\users\\rjhha\\anaconda3\\lib\\site-packages (from jupyter-core!=5.0.*,>=4.12->nbformat) (3.10.0)\n",
      "Requirement already satisfied: pywin32>=300 in c:\\users\\rjhha\\anaconda3\\lib\\site-packages (from jupyter-core!=5.0.*,>=4.12->nbformat) (305.1)\n",
      "Note: you may need to restart the kernel to use updated packages.\n"
     ]
    }
   ],
   "source": [
    "pip install nbformat\n"
   ]
  },
  {
   "cell_type": "code",
   "execution_count": null,
   "id": "d3908feb",
   "metadata": {},
   "outputs": [],
   "source": [
    "import nbformat\n",
    "\n",
    "with open(\"neural network with one hidden layer with two neurons.ipynb\") as f:\n",
    "    nb = nbformat.read(f, as_version=4)\n",
    "\n",
    "with open(\"fixed_neural network with one hidden layer with two neurons.ipynb\", \"w\") as f:\n",
    "    nbformat.write(nb, f)\n"
   ]
  }
 ],
 "metadata": {
  "kernelspec": {
   "display_name": "base",
   "language": "python",
   "name": "python3"
  },
  "language_info": {
   "codemirror_mode": {
    "name": "ipython",
    "version": 3
   },
   "file_extension": ".py",
   "mimetype": "text/x-python",
   "name": "python",
   "nbconvert_exporter": "python",
   "pygments_lexer": "ipython3",
   "version": "3.12.7"
  }
 },
 "nbformat": 4,
 "nbformat_minor": 5
}
